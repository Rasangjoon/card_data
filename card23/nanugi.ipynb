{
 "cells": [
  {
   "cell_type": "code",
   "execution_count": 10,
   "metadata": {},
   "outputs": [],
   "source": [
    "import pandas as pd\n",
    "\n",
    "# analyzed_df.csv 파일과 soby.csv 파일을 pandas DataFrame으로 읽어옵니다.\n",
    "analyzed_df = pd.read_csv('analyzed_df.csv')\n",
    "soby_df = pd.read_csv('soby.csv',encoding='cp949')"
   ]
  },
  {
   "cell_type": "code",
   "execution_count": 11,
   "metadata": {},
   "outputs": [],
   "source": [
    "def calculate_discount_amount(row):\n",
    "    card_name = row['카드이름']\n",
    "    discount_amount = 0\n",
    "\n",
    "    for i in range(2, 10):  # 할인내역2부터 할인내역9까지 반복합니다.\n",
    "        discount_desc_col = f'할인내역{i}'\n",
    "        discount_rate_col = f'할인율{i}(%)'\n",
    "        \n",
    "        # 해당 카드의 할인내역과 할인율을 가져옵니다.\n",
    "        discount_desc = analyzed_df.loc[analyzed_df['카드이름'] == card_name, discount_desc_col].iloc[0]\n",
    "        discount_rate = analyzed_df.loc[analyzed_df['카드이름'] == card_name, discount_rate_col].iloc[0]\n",
    "        \n",
    "        # 소비내역에 할인내역이 포함되어 있으면 할인 금액을 계산합니다.\n",
    "        if discount_desc in row['카드내역']:\n",
    "            discount_amount += row['가격'] * discount_rate / 100\n",
    "\n",
    "    return discount_amount"
   ]
  },
  {
   "cell_type": "code",
   "execution_count": 3,
   "metadata": {},
   "outputs": [],
   "source": []
  },
  {
   "cell_type": "code",
   "execution_count": 4,
   "metadata": {},
   "outputs": [],
   "source": []
  },
  {
   "cell_type": "code",
   "execution_count": 6,
   "metadata": {},
   "outputs": [
    {
     "name": "stdout",
     "output_type": "stream",
     "text": [
      "0\n",
      "0\n"
     ]
    }
   ],
   "source": []
  },
  {
   "cell_type": "code",
   "execution_count": null,
   "metadata": {},
   "outputs": [],
   "source": []
  }
 ],
 "metadata": {
  "kernelspec": {
   "display_name": "base",
   "language": "python",
   "name": "python3"
  },
  "language_info": {
   "codemirror_mode": {
    "name": "ipython",
    "version": 3
   },
   "file_extension": ".py",
   "mimetype": "text/x-python",
   "name": "python",
   "nbconvert_exporter": "python",
   "pygments_lexer": "ipython3",
   "version": "3.11.3"
  },
  "orig_nbformat": 4
 },
 "nbformat": 4,
 "nbformat_minor": 2
}
