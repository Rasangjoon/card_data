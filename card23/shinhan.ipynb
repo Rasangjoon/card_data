{
 "cells": [
  {
   "cell_type": "code",
   "execution_count": 2,
   "metadata": {},
   "outputs": [],
   "source": [
    "market1 = ['GS25','CU편의점','세븐일레븐','emart24','미니스톱']\n",
    "\n",
    "market2 = ['홈플러스','홈플러스', '익스프레스','GS THE FRESH','롯데마트','하이마트','롯데슈퍼','이케아','하나로마트','하모니마트']\n",
    "\n",
    "cafe = ['파리바게트', '던킨도너츠', '베스킨라빈스','이디야','할리스','오설록','엔제리너스','메가커피','스무디킹','ZOO커피','아리스타커피','카페띠아모']\n",
    "\n",
    "eat = ['아웃백 스테이크하우스','올가홀푸드(ORGA)','밀크밥버거','오봉도시락']"
   ]
  },
  {
   "cell_type": "code",
   "execution_count": null,
   "metadata": {},
   "outputs": [],
   "source": []
  }
 ],
 "metadata": {
  "kernelspec": {
   "display_name": "base",
   "language": "python",
   "name": "python3"
  },
  "language_info": {
   "codemirror_mode": {
    "name": "ipython",
    "version": 3
   },
   "file_extension": ".py",
   "mimetype": "text/x-python",
   "name": "python",
   "nbconvert_exporter": "python",
   "pygments_lexer": "ipython3",
   "version": "3.11.3"
  },
  "orig_nbformat": 4
 },
 "nbformat": 4,
 "nbformat_minor": 2
}
