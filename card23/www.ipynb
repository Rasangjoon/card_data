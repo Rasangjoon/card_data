{
 "cells": [
  {
   "cell_type": "code",
   "execution_count": 3,
   "metadata": {},
   "outputs": [],
   "source": [
    "import requests\n",
    "from bs4 import BeautifulSoup\n",
    "import re\n",
    "import json"
   ]
  },
  {
   "cell_type": "code",
   "execution_count": 4,
   "metadata": {},
   "outputs": [
    {
     "name": "stdout",
     "output_type": "stream",
     "text": [
      "{\n",
      "  \"1530\": \"/item?cardAdId=1530\",\n",
      "  \"10105\": \"/item?cardAdId=10105\",\n",
      "  \"10285\": \"/item?cardAdId=10285\",\n",
      "  \"3881\": \"/item?cardAdId=3881\",\n",
      "  \"10102\": \"/item?cardAdId=10102\",\n",
      "  \"1408\": \"/item?cardAdId=1408\",\n",
      "  \"10179\": \"/item?cardAdId=10179\",\n",
      "  \"10065\": \"/item?cardAdId=10065\",\n",
      "  \"2776\": \"/item?cardAdId=2776\",\n",
      "  \"247\": \"/item?cardAdId=247\"\n",
      "}\n"
     ]
    }
   ],
   "source": [
    "\n",
    "# 대상 사이트 URL\n",
    "url = \"https://card-search.naver.com/list\"\n",
    "\n",
    "# 크롤링할 페이지 요청\n",
    "response = requests.get(url)\n",
    "if response.status_code != 200:\n",
    "    print(\"페이지를 가져오는 데 문제가 발생했습니다.\")\n",
    "    exit()\n",
    "\n",
    "# BeautifulSoup를 사용하여 HTML 파싱\n",
    "soup = BeautifulSoup(response.text, \"html.parser\")\n",
    "\n",
    "# JSON 데이터를 담을 딕셔너리 생성\n",
    "json_data = {}\n",
    "\n",
    "# <a> 태그 찾기\n",
    "a_tags = soup.find_all(\"a\", {\"class\": \"anchor\"})\n",
    "\n",
    "# 정규표현식을 이용하여 파라미터 값 추출\n",
    "for a_tag in a_tags:\n",
    "    href = a_tag.get(\"href\")\n",
    "    match = re.search(r\"cardAdId=(\\d+)\", href)\n",
    "    if match:\n",
    "        cardAdId = match.group(1)\n",
    "        # cardAdId를 키로 하여 딕셔너리에 추가\n",
    "        json_data[cardAdId] = href\n",
    "\n",
    "# 결과 출력 (JSON 형태로 변환하여 출력)\n",
    "print(json.dumps(json_data, indent=2, ensure_ascii=False))"
   ]
  },
  {
   "cell_type": "code",
   "execution_count": 5,
   "metadata": {},
   "outputs": [
    {
     "ename": "RuntimeError",
     "evalue": "asyncio.run() cannot be called from a running event loop",
     "output_type": "error",
     "traceback": [
      "\u001b[1;31m---------------------------------------------------------------------------\u001b[0m",
      "\u001b[1;31mRuntimeError\u001b[0m                              Traceback (most recent call last)",
      "Cell \u001b[1;32mIn[5], line 36\u001b[0m\n\u001b[0;32m     33\u001b[0m     \u001b[39mprint\u001b[39m(json\u001b[39m.\u001b[39mdumps(json_data, indent\u001b[39m=\u001b[39m\u001b[39m2\u001b[39m, ensure_ascii\u001b[39m=\u001b[39m\u001b[39mFalse\u001b[39;00m))\n\u001b[0;32m     35\u001b[0m \u001b[39mif\u001b[39;00m \u001b[39m__name__\u001b[39m \u001b[39m==\u001b[39m \u001b[39m\"\u001b[39m\u001b[39m__main__\u001b[39m\u001b[39m\"\u001b[39m:\n\u001b[1;32m---> 36\u001b[0m     asyncio\u001b[39m.\u001b[39;49mrun(main())\n",
      "File \u001b[1;32mc:\\Users\\pooom\\anaconda3\\Lib\\asyncio\\runners.py:186\u001b[0m, in \u001b[0;36mrun\u001b[1;34m(main, debug)\u001b[0m\n\u001b[0;32m    161\u001b[0m \u001b[39m\u001b[39m\u001b[39m\"\"\"Execute the coroutine and return the result.\u001b[39;00m\n\u001b[0;32m    162\u001b[0m \n\u001b[0;32m    163\u001b[0m \u001b[39mThis function runs the passed coroutine, taking care of\u001b[39;00m\n\u001b[1;32m   (...)\u001b[0m\n\u001b[0;32m    182\u001b[0m \u001b[39m    asyncio.run(main())\u001b[39;00m\n\u001b[0;32m    183\u001b[0m \u001b[39m\"\"\"\u001b[39;00m\n\u001b[0;32m    184\u001b[0m \u001b[39mif\u001b[39;00m events\u001b[39m.\u001b[39m_get_running_loop() \u001b[39mis\u001b[39;00m \u001b[39mnot\u001b[39;00m \u001b[39mNone\u001b[39;00m:\n\u001b[0;32m    185\u001b[0m     \u001b[39m# fail fast with short traceback\u001b[39;00m\n\u001b[1;32m--> 186\u001b[0m     \u001b[39mraise\u001b[39;00m \u001b[39mRuntimeError\u001b[39;00m(\n\u001b[0;32m    187\u001b[0m         \u001b[39m\"\u001b[39m\u001b[39masyncio.run() cannot be called from a running event loop\u001b[39m\u001b[39m\"\u001b[39m)\n\u001b[0;32m    189\u001b[0m \u001b[39mwith\u001b[39;00m Runner(debug\u001b[39m=\u001b[39mdebug) \u001b[39mas\u001b[39;00m runner:\n\u001b[0;32m    190\u001b[0m     \u001b[39mreturn\u001b[39;00m runner\u001b[39m.\u001b[39mrun(main)\n",
      "\u001b[1;31mRuntimeError\u001b[0m: asyncio.run() cannot be called from a running event loop"
     ]
    }
   ],
   "source": [
    "import asyncio\n",
    "import aiohttp\n",
    "import json\n",
    "\n",
    "async def fetch_data(session, url):\n",
    "    async with session.get(url) as response:\n",
    "        return await response.text()\n",
    "\n",
    "async def main():\n",
    "    base_url = \"https://card-search.naver.com/list\"\n",
    "    json_data = {}\n",
    "\n",
    "    async with aiohttp.ClientSession() as session:\n",
    "        page = 1\n",
    "        while True:\n",
    "            # 비동기 방식으로 데이터 가져오기\n",
    "            url = f\"{base_url}?page={page}\"\n",
    "            data = await fetch_data(session, url)\n",
    "            \n",
    "            # JSON 데이터 추출 및 처리\n",
    "            # (여기에서 데이터 추출 방식은 이전 예제와 동일하게 처리하면 됩니다.)\n",
    "            # 예시로 데이터 추출을 생략하고 더보기 처리만 구현합니다.\n",
    "\n",
    "            # 만약 데이터 추출이 필요하다면 여기에 해당 로직을 추가합니다.\n",
    "\n",
    "            # 더 이상 데이터가 없을 경우 종료\n",
    "            if not data:\n",
    "                break\n",
    "\n",
    "            page += 1\n",
    "\n",
    "    # 최종 결과 출력\n",
    "    print(json.dumps(json_data, indent=2, ensure_ascii=False))\n",
    "\n",
    "if __name__ == \"__main__\":\n",
    "    asyncio.run(main())"
   ]
  },
  {
   "cell_type": "code",
   "execution_count": 9,
   "metadata": {},
   "outputs": [
    {
     "ename": "RuntimeError",
     "evalue": "Cannot run the event loop while another loop is running",
     "output_type": "error",
     "traceback": [
      "\u001b[1;31m---------------------------------------------------------------------------\u001b[0m",
      "\u001b[1;31mRuntimeError\u001b[0m                              Traceback (most recent call last)",
      "Cell \u001b[1;32mIn[9], line 35\u001b[0m\n\u001b[0;32m     32\u001b[0m asyncio\u001b[39m.\u001b[39mset_event_loop(loop)\n\u001b[0;32m     34\u001b[0m \u001b[39mtry\u001b[39;00m:\n\u001b[1;32m---> 35\u001b[0m     result \u001b[39m=\u001b[39m loop\u001b[39m.\u001b[39;49mrun_until_complete(crawl_data())\n\u001b[0;32m     36\u001b[0m     \u001b[39mprint\u001b[39m(json\u001b[39m.\u001b[39mdumps(result, indent\u001b[39m=\u001b[39m\u001b[39m2\u001b[39m, ensure_ascii\u001b[39m=\u001b[39m\u001b[39mFalse\u001b[39;00m))\n\u001b[0;32m     37\u001b[0m \u001b[39mfinally\u001b[39;00m:\n",
      "File \u001b[1;32mc:\\Users\\pooom\\anaconda3\\Lib\\asyncio\\base_events.py:629\u001b[0m, in \u001b[0;36mBaseEventLoop.run_until_complete\u001b[1;34m(self, future)\u001b[0m\n\u001b[0;32m    618\u001b[0m \u001b[39m\u001b[39m\u001b[39m\"\"\"Run until the Future is done.\u001b[39;00m\n\u001b[0;32m    619\u001b[0m \n\u001b[0;32m    620\u001b[0m \u001b[39mIf the argument is a coroutine, it is wrapped in a Task.\u001b[39;00m\n\u001b[1;32m   (...)\u001b[0m\n\u001b[0;32m    626\u001b[0m \u001b[39mReturn the Future's result, or raise its exception.\u001b[39;00m\n\u001b[0;32m    627\u001b[0m \u001b[39m\"\"\"\u001b[39;00m\n\u001b[0;32m    628\u001b[0m \u001b[39mself\u001b[39m\u001b[39m.\u001b[39m_check_closed()\n\u001b[1;32m--> 629\u001b[0m \u001b[39mself\u001b[39;49m\u001b[39m.\u001b[39;49m_check_running()\n\u001b[0;32m    631\u001b[0m new_task \u001b[39m=\u001b[39m \u001b[39mnot\u001b[39;00m futures\u001b[39m.\u001b[39misfuture(future)\n\u001b[0;32m    632\u001b[0m future \u001b[39m=\u001b[39m tasks\u001b[39m.\u001b[39mensure_future(future, loop\u001b[39m=\u001b[39m\u001b[39mself\u001b[39m)\n",
      "File \u001b[1;32mc:\\Users\\pooom\\anaconda3\\Lib\\asyncio\\base_events.py:590\u001b[0m, in \u001b[0;36mBaseEventLoop._check_running\u001b[1;34m(self)\u001b[0m\n\u001b[0;32m    588\u001b[0m     \u001b[39mraise\u001b[39;00m \u001b[39mRuntimeError\u001b[39;00m(\u001b[39m'\u001b[39m\u001b[39mThis event loop is already running\u001b[39m\u001b[39m'\u001b[39m)\n\u001b[0;32m    589\u001b[0m \u001b[39mif\u001b[39;00m events\u001b[39m.\u001b[39m_get_running_loop() \u001b[39mis\u001b[39;00m \u001b[39mnot\u001b[39;00m \u001b[39mNone\u001b[39;00m:\n\u001b[1;32m--> 590\u001b[0m     \u001b[39mraise\u001b[39;00m \u001b[39mRuntimeError\u001b[39;00m(\n\u001b[0;32m    591\u001b[0m         \u001b[39m'\u001b[39m\u001b[39mCannot run the event loop while another loop is running\u001b[39m\u001b[39m'\u001b[39m)\n",
      "\u001b[1;31mRuntimeError\u001b[0m: Cannot run the event loop while another loop is running"
     ]
    }
   ],
   "source": [
    "import asyncio\n",
    "import aiohttp\n",
    "import json\n",
    "\n",
    "async def fetch_data(session, url):\n",
    "    async with session.get(url) as response:\n",
    "        return await response.text()\n",
    "\n",
    "async def crawl_data():\n",
    "    base_url = \"https://card-search.naver.com/list\"\n",
    "    json_data = {}\n",
    "\n",
    "    async with aiohttp.ClientSession() as session:\n",
    "        page = 1\n",
    "        while True:\n",
    "            url = f\"{base_url}?page={page}\"\n",
    "            data = await fetch_data(session, url)\n",
    "\n",
    "            # JSON 데이터 추출 및 처리 (생략)\n",
    "\n",
    "            # 더 이상 데이터가 없을 경우 종료\n",
    "            if not data:\n",
    "                break\n",
    "\n",
    "            page += 1\n",
    "\n",
    "    # 최종 결과 반환\n",
    "    return json_data\n",
    "\n",
    "if __name__ == \"__main__\":\n",
    "    loop = asyncio.new_event_loop()\n",
    "    asyncio.set_event_loop(loop)\n",
    "\n",
    "    try:\n",
    "        result = loop.run_until_complete(crawl_data())\n",
    "        print(json.dumps(result, indent=2, ensure_ascii=False))\n",
    "    finally:\n",
    "        loop.close()\n"
   ]
  },
  {
   "cell_type": "code",
   "execution_count": null,
   "metadata": {},
   "outputs": [],
   "source": []
  }
 ],
 "metadata": {
  "kernelspec": {
   "display_name": "base",
   "language": "python",
   "name": "python3"
  },
  "language_info": {
   "codemirror_mode": {
    "name": "ipython",
    "version": 3
   },
   "file_extension": ".py",
   "mimetype": "text/x-python",
   "name": "python",
   "nbconvert_exporter": "python",
   "pygments_lexer": "ipython3",
   "version": "3.11.3"
  },
  "orig_nbformat": 4
 },
 "nbformat": 4,
 "nbformat_minor": 2
}
